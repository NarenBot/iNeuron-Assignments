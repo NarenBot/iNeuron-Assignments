{
 "cells": [
  {
   "cell_type": "code",
   "execution_count": 7,
   "metadata": {},
   "outputs": [
    {
     "name": "stdout",
     "output_type": "stream",
     "text": [
      "[18.92, 37.09, 10.56, 95.45, 4.67, 78.85, 21.07]\n",
      "['olumide', 'josiah', 'omoseun']\n",
      "24840\n"
     ]
    }
   ],
   "source": [
    "# EXAMPLES:\n",
    "\n",
    "from functools import reduce \n",
    "\n",
    "# Use map to print the square of each numbers rounded\n",
    "# to two decimal places\n",
    "my_floats = [4.35, 6.09, 3.25, 9.77, 2.16, 8.88, 4.59]\n",
    "\n",
    "# Use filter to print only the names that are less than \n",
    "# or equal to seven letters\n",
    "my_names = [\"olumide\", \"akinremi\", \"josiah\", \"temidayo\", \"omoseun\"]\n",
    "\n",
    "# Use reduce to print the product of these numbers\n",
    "my_numbers = [4, 6, 9, 23, 5]\n",
    "\n",
    "# Fix all three respectively.\n",
    "map_result = list(map(lambda x: round(x**2,2), my_floats))\n",
    "filter_result = list(filter(lambda name: len(name)<=7, my_names))\n",
    "reduce_result = reduce(lambda num1, num2: num1 * num2, my_numbers)\n",
    "\n",
    "print(map_result)\n",
    "print(filter_result)\n",
    "print(reduce_result)"
   ]
  },
  {
   "cell_type": "markdown",
   "metadata": {},
   "source": [
    "# Own_Functions:"
   ]
  },
  {
   "cell_type": "code",
   "execution_count": 45,
   "metadata": {},
   "outputs": [
    {
     "name": "stdout",
     "output_type": "stream",
     "text": [
      "120\n"
     ]
    }
   ],
   "source": [
    "# Own_Reduce Function :::\n",
    "\n",
    "def my_Reduce(public_func, iterable):\n",
    "    result = iterable[0]\n",
    "    for value in iterable[1:]:\n",
    "        result = public_func(result, value)\n",
    "    return result\n",
    "\n",
    "# Public_Function :::\n",
    "def product(a,b):\n",
    "    return a*b\n",
    "\n",
    "ls = [1,2,3,4,5]\n",
    "final_reduce = my_Reduce(product, ls)\n",
    "print(final_reduce)"
   ]
  },
  {
   "cell_type": "code",
   "execution_count": 46,
   "metadata": {},
   "outputs": [
    {
     "name": "stdout",
     "output_type": "stream",
     "text": [
      "['Kayak', 'Madam', 'Noon', 'Wow']\n"
     ]
    }
   ],
   "source": [
    "# Own_Filter Function :::\n",
    "\n",
    "def my_Filter(public_func, iterable):\n",
    "    result = []\n",
    "    for item in iterable:\n",
    "        if public_func(item):\n",
    "            result.append(item)\n",
    "    return result\n",
    "\n",
    "# Public_Function :::\n",
    "def word_len(word):\n",
    "    if len(word)<=5:\n",
    "        return True\n",
    "    else:\n",
    "        return False\n",
    "\n",
    "words = [\"Kayak\", \"Madam\", \"Racecar\", \"Redder\", \"Rotator\", \"Noon\", \"Wow\"]\n",
    "final_filter = my_Filter(word_len, words)\n",
    "print(final_filter)\n"
   ]
  },
  {
   "cell_type": "code",
   "execution_count": 66,
   "metadata": {},
   "outputs": [
    {
     "data": {
      "text/plain": [
       "[1, 4, 9]"
      ]
     },
     "execution_count": 66,
     "metadata": {},
     "output_type": "execute_result"
    }
   ],
   "source": [
    "# Own_Map Function :::\n",
    "\n",
    "def my_Map(public_func, iterable):\n",
    "    result = []\n",
    "    \n",
    "    for item in iterable:\n",
    "        res = public_func(item)\n",
    "        result.append(res)\n",
    "    return result\n",
    "        \n",
    "    \n",
    "def expo(value):\n",
    "    return value**2\n",
    "\n",
    "my_Map(expo, [1,2,3])\n"
   ]
  },
  {
   "cell_type": "code",
   "execution_count": null,
   "metadata": {},
   "outputs": [],
   "source": []
  },
  {
   "cell_type": "markdown",
   "metadata": {},
   "source": [
    "# Complex:"
   ]
  },
  {
   "cell_type": "code",
   "execution_count": 1,
   "metadata": {},
   "outputs": [
    {
     "data": {
      "text/plain": [
       "[('f', 0),\n",
       " ('o', 0),\n",
       " ('o', 0),\n",
       " ('b', 0),\n",
       " ('a', 0),\n",
       " ('r', 0),\n",
       " ('b', 1),\n",
       " ('a', 1),\n",
       " ('z', 1),\n",
       " ('t', 1),\n",
       " ('a', 1),\n",
       " ('z', 1),\n",
       " ('k', 2),\n",
       " ('o', 2),\n",
       " ('k', 2),\n",
       " ('o', 2)]"
      ]
     },
     "execution_count": 1,
     "metadata": {},
     "output_type": "execute_result"
    }
   ],
   "source": [
    "strings = [ ['foo', 'bar'], ['baz', 'taz'], ['w', 'koko'] ]\n",
    "[ (letter, idx) for idx, lst in enumerate(strings) for word in lst if len(word)>2 for letter in word]\n",
    "\n",
    "# [('f', 0), ('o', 0), ('o', 0), ('b', 0), ('a', 0), ('r', 0), ('b', 1), ('a', 1), ('z', 1), ('t', 1), ('a', 1), ('z', 1), ('k', 2), ('o', 2), ('k', 2), ('o', 2)]"
   ]
  },
  {
   "cell_type": "code",
   "execution_count": null,
   "metadata": {},
   "outputs": [],
   "source": []
  }
 ],
 "metadata": {
  "kernelspec": {
   "display_name": "Python 3",
   "language": "python",
   "name": "python3"
  },
  "language_info": {
   "codemirror_mode": {
    "name": "ipython",
    "version": 3
   },
   "file_extension": ".py",
   "mimetype": "text/x-python",
   "name": "python",
   "nbconvert_exporter": "python",
   "pygments_lexer": "ipython3",
   "version": "3.7.3"
  }
 },
 "nbformat": 4,
 "nbformat_minor": 2
}
