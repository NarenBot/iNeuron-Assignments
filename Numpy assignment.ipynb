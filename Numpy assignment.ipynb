{
 "cells": [
  {
   "cell_type": "code",
   "execution_count": 47,
   "metadata": {},
   "outputs": [],
   "source": [
    "import numpy as np"
   ]
  },
  {
   "cell_type": "code",
   "execution_count": 48,
   "metadata": {},
   "outputs": [
    {
     "name": "stdout",
     "output_type": "stream",
     "text": [
      "[[ 27   9   3   1]\n",
      " [125  25   5   1]\n",
      " [343  49   7   1]\n",
      " [729  81   9   1]]\n"
     ]
    }
   ],
   "source": [
    "# 1. Write a function so that the columns of the output matrix are powers of the input vector.\n",
    "# HINT: Such a matrix with a geometric progression in each row is named for Alexandre-Theophile Vandermonde.(N - i - 1)\n",
    "\n",
    "def vander(x):\n",
    "    ls = [ x**(len(x)-i-1) for i in range(len(x))]\n",
    "    mat = np.array(ls).T\n",
    "    print(mat)\n",
    "    \n",
    "if __name__ == '__main__':\n",
    "    arr = np.array([3,5,7,9])\n",
    "    vander(arr)\n"
   ]
  },
  {
   "cell_type": "code",
   "execution_count": 49,
   "metadata": {},
   "outputs": [
    {
     "name": "stdout",
     "output_type": "stream",
     "text": [
      "[5.0, 4.67, 5.67, 6.67, 9.67, 28.67, 49.33, 72.67, 84.0, 93.33, 116.33]\n"
     ]
    }
   ],
   "source": [
    "# 2. Write a function to find moving average in an array over a window:\n",
    "# Test it over [3, 5, 7, 2, 8, 10, 11, 65, 72, 81, 99, 100, 150] and window of 3.\n",
    "\n",
    "\n",
    "def moving_avg(ls,N,K):\n",
    "    res = []\n",
    "    for i in range(N-K+1):\n",
    "        val = round(np.mean(ls[i:i+K]),2)\n",
    "        res.append(val)\n",
    "    print(res)\n",
    "    \n",
    "if __name__ == '__main__':\n",
    "    arr = [3, 5, 7, 2, 8, 10, 11, 65, 72, 81, 99, 100, 150]\n",
    "    n = len(arr)\n",
    "    k = 3\n",
    "    moving_avg(arr,n,k)\n"
   ]
  },
  {
   "cell_type": "code",
   "execution_count": null,
   "metadata": {},
   "outputs": [],
   "source": []
  }
 ],
 "metadata": {
  "kernelspec": {
   "display_name": "Python 3",
   "language": "python",
   "name": "python3"
  },
  "language_info": {
   "codemirror_mode": {
    "name": "ipython",
    "version": 3
   },
   "file_extension": ".py",
   "mimetype": "text/x-python",
   "name": "python",
   "nbconvert_exporter": "python",
   "pygments_lexer": "ipython3",
   "version": "3.7.3"
  }
 },
 "nbformat": 4,
 "nbformat_minor": 2
}
