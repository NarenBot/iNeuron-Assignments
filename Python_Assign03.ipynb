{
 "cells": [
  {
   "cell_type": "code",
   "execution_count": 40,
   "metadata": {},
   "outputs": [
    {
     "name": "stdout",
     "output_type": "stream",
     "text": [
      "120\n"
     ]
    }
   ],
   "source": [
    "# 1.1 Write a Python Program to implement your own myreduce() function which works exactly\n",
    "# like Python's built-in function reduce()\n",
    "\n",
    "def my_Reduce(public_func, iterable):\n",
    "    result = iterable[0]\n",
    "    for value in iterable[1:]:\n",
    "        result = public_func(result, value)\n",
    "    return result\n",
    "\n",
    "# Public_Function :::\n",
    "def product(a,b):\n",
    "    return a*b\n",
    "\n",
    "ls = [1,2,3,4,5]\n",
    "final_reduce = my_Reduce(product, ls)\n",
    "print(final_reduce)"
   ]
  },
  {
   "cell_type": "code",
   "execution_count": 41,
   "metadata": {},
   "outputs": [
    {
     "name": "stdout",
     "output_type": "stream",
     "text": [
      "['Kayak', 'Madam', 'Noon', 'Wow']\n"
     ]
    }
   ],
   "source": [
    "# 1.2 Write a Python program to implement your own myfilter() function which works exactly\n",
    "# like Python's built-in function filter()\n",
    "\n",
    "def my_Filter(public_func, iterable):\n",
    "    result = []\n",
    "    for item in iterable:\n",
    "        if public_func(item):\n",
    "            result.append(item)\n",
    "    return result\n",
    "\n",
    "# Public_Function :::\n",
    "def word_len(word):\n",
    "    if len(word)<=5:\n",
    "        return True\n",
    "    else:\n",
    "        return False\n",
    "\n",
    "words = [\"Kayak\", \"Madam\", \"Racecar\", \"Redder\", \"Rotator\", \"Noon\", \"Wow\"]\n",
    "final_filter = my_Filter(word_len, words)\n",
    "print(final_filter)"
   ]
  },
  {
   "cell_type": "code",
   "execution_count": 42,
   "metadata": {},
   "outputs": [
    {
     "name": "stdout",
     "output_type": "stream",
     "text": [
      "01:  ['x', 'xx', 'xxx', 'xxxx', 'y', 'yy', 'yyy', 'yyyy', 'z', 'zz', 'zzz', 'zzzz']\n",
      "02:  ['x', 'y', 'z', 'xx', 'yy', 'zz', 'xxx', 'yyy', 'zzz', 'xxxx', 'yyyy', 'zzzz']\n",
      "03:  [[2], [3], [4], [3], [4], [5], [4], [5], [6]]\n",
      "04:  [[2, 3, 4, 5], [3, 4, 5, 6], [4, 5, 6, 7], [5, 6, 7, 8]]\n",
      "05:  [(1, 1), (2, 1), (3, 1), (1, 2), (2, 2), (3, 2), (1, 3), (2, 3), (3, 3)]\n"
     ]
    }
   ],
   "source": [
    "# 2.0 Implement List comprehensions to produce the following lists.\n",
    "ls = ['x','y','z']\n",
    "\n",
    "list_1 = [count*ls[i] for i in range(3) for count in range(1,5)]\n",
    "\n",
    "list_2 = [count*ls[i] for count in range(1,5) for i in range(3) ]\n",
    "\n",
    "list_3 = [[i+j] for i in range(2,5) for j in range(3)]\n",
    "\n",
    "list_4 = [[i,i+1,i+2,i+3] for i in range(2,6) for j in range(1)]\n",
    "\n",
    "list_5 = [(j,i) for i in range(1,4) for j in range(1,4)]\n",
    "\n",
    "print('01: ',list_1)\n",
    "print('02: ',list_2)\n",
    "print('03: ',list_3)\n",
    "print('04: ',list_4)\n",
    "print('05: ',list_5)\n"
   ]
  },
  {
   "cell_type": "code",
   "execution_count": null,
   "metadata": {},
   "outputs": [],
   "source": []
  }
 ],
 "metadata": {
  "kernelspec": {
   "display_name": "Python 3",
   "language": "python",
   "name": "python3"
  },
  "language_info": {
   "codemirror_mode": {
    "name": "ipython",
    "version": 3
   },
   "file_extension": ".py",
   "mimetype": "text/x-python",
   "name": "python",
   "nbconvert_exporter": "python",
   "pygments_lexer": "ipython3",
   "version": "3.7.3"
  }
 },
 "nbformat": 4,
 "nbformat_minor": 2
}
