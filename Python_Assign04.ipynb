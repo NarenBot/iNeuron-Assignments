{
 "cells": [
  {
   "cell_type": "code",
   "execution_count": 12,
   "metadata": {},
   "outputs": [
    {
     "name": "stdout",
     "output_type": "stream",
     "text": [
      "Enter First length: 3\n",
      "Enter Second length: 4\n",
      "Enter Third length: 5\n",
      "Area of Triangle for the given length sides: 6.0 cm²\n"
     ]
    }
   ],
   "source": [
    "# 1.1 Write a Python Program(with class concepts) to find the area of the triangle using the below formula.\n",
    "# area = (s*(s-a)*(s-b)*(s-c)) ** 0.5\n",
    "# Function to take the length of the sides of triangle from user should be defined in the parent\n",
    "# class and function to calculate the area should be defined in subclass.\n",
    "\n",
    "class Tri_sides:\n",
    "    def __init__(self,a,b,c):\n",
    "        self.a = a\n",
    "        self.b = b\n",
    "        self.c = c\n",
    "\n",
    "class Tri_area(Tri_sides):\n",
    "    def area(self):\n",
    "        s = (self.a + self.b + self.c)/2\n",
    "        return (s*(s-self.a)*(s-self.b)*(s-self.c))**0.5\n",
    "\n",
    "x = int(input('Enter First length: '))\n",
    "y = int(input('Enter Second length: '))\n",
    "z = int(input('Enter Third length: '))\n",
    "        \n",
    "obj_child = Tri_area(x,y,z)\n",
    "print('Area of Triangle for the given length sides: ' + str(obj_child.area()) + ' cm\\u00b2')\n"
   ]
  },
  {
   "cell_type": "code",
   "execution_count": 11,
   "metadata": {},
   "outputs": [
    {
     "name": "stdout",
     "output_type": "stream",
     "text": [
      "Enter any number less than ten:5\n",
      "['Racecar', 'Redder', 'Rotator', 'Pseudopseudohypoparathyroidism']\n"
     ]
    }
   ],
   "source": [
    "# 1.2 Write a function filter_long_words() that takes a list of words and an integer n and returns\n",
    "# the list of words that are longer than n.\n",
    "\n",
    "result = []\n",
    "def filter_long_words(words, n):\n",
    "    for word in words:\n",
    "        if len(word) > n:\n",
    "            result.append(word)\n",
    "    return result\n",
    "\n",
    "names = [\"Kayak\", \"Madam\", \"Racecar\", \"Redder\", \"Rotator\", \"Noon\", \"Wow\", \"Pseudopseudohypoparathyroidism\"]\n",
    "\n",
    "num = int(input('Enter any number less than ten:'))\n",
    "print(filter_long_words(names,num))\n",
    "        "
   ]
  },
  {
   "cell_type": "code",
   "execution_count": 14,
   "metadata": {},
   "outputs": [
    {
     "name": "stdout",
     "output_type": "stream",
     "text": [
      "[5, 5, 7, 6, 7, 4, 3, 30]\n"
     ]
    }
   ],
   "source": [
    "# 2.1 Write a Python program using function concept that maps list of words into a list of integers\n",
    "# representing the lengths of the corresponding words.\n",
    "# Hint: If a list [ ab,cde,erty] is passed on to the python function output should come as [2,3,4]\n",
    "# Here 2,3 and 4 are the lengths of the words in the list.\n",
    "\n",
    "result = []\n",
    "def words_len(words):\n",
    "    for word in words:\n",
    "        result.append(len(word))\n",
    "    return result\n",
    "    \n",
    "names = [\"Kayak\", \"Madam\", \"Racecar\", \"Redder\", \"Rotator\", \"Noon\", \"Wow\", \"Pseudopseudohypoparathyroidism\"]\n",
    "print(words_len(names))"
   ]
  },
  {
   "cell_type": "code",
   "execution_count": 22,
   "metadata": {},
   "outputs": [
    {
     "name": "stdout",
     "output_type": "stream",
     "text": [
      "True\n"
     ]
    }
   ],
   "source": [
    "# 2.2 Write a Python function which takes a character (i.e. a string of length 1) and returns True if\n",
    "# it is a vowel, False otherwise.\n",
    "\n",
    "result = []\n",
    "def vowels(char):\n",
    "    for i in char:\n",
    "        if i=='a' or i=='e' or i=='i'or i=='o'or i=='u':\n",
    "            return True\n",
    "        else:\n",
    "            return False\n",
    "print(vowels('i'))\n",
    "        "
   ]
  },
  {
   "cell_type": "code",
   "execution_count": null,
   "metadata": {},
   "outputs": [],
   "source": []
  },
  {
   "cell_type": "code",
   "execution_count": null,
   "metadata": {},
   "outputs": [],
   "source": []
  },
  {
   "cell_type": "code",
   "execution_count": null,
   "metadata": {},
   "outputs": [],
   "source": []
  }
 ],
 "metadata": {
  "kernelspec": {
   "display_name": "Python 3",
   "language": "python",
   "name": "python3"
  },
  "language_info": {
   "codemirror_mode": {
    "name": "ipython",
    "version": 3
   },
   "file_extension": ".py",
   "mimetype": "text/x-python",
   "name": "python",
   "nbconvert_exporter": "python",
   "pygments_lexer": "ipython3",
   "version": "3.7.3"
  }
 },
 "nbformat": 4,
 "nbformat_minor": 2
}
